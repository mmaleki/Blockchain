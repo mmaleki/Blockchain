{
 "cells": [
  {
   "cell_type": "markdown",
   "metadata": {},
   "source": [
    "Blockchain is a block of data with unique representation which is hard to replace by construction. Every block in a blockchain contains the original data, hash of the data and he hash of he previous block. Hash of the data actually is the hash of the data + hash of the previous block. The first block in the chain is called Genesis Block and is a block with the previous hash equal to 0 or any other random number. "
   ]
  },
  {
   "cell_type": "code",
   "execution_count": 1,
   "metadata": {},
   "outputs": [],
   "source": [
    "import json"
   ]
  },
  {
   "cell_type": "code",
   "execution_count": 2,
   "metadata": {},
   "outputs": [
    {
     "name": "stdout",
     "output_type": "stream",
     "text": [
      "Enter the file name: test.txt\n",
      "d2af1a58501dec9999548d0f20fe2b040e013e02efce458115465c8f244f0255\n"
     ]
    }
   ],
   "source": [
    "import hashlib\n",
    "\n",
    "filename=input(\"Enter the file name: \")\n",
    "with open(filename, \"rb\") as f:\n",
    "    bytes=f.read() #read entire file as bytes\n",
    "    readable_hash=hashlib.sha256(bytes).hexdigest();\n",
    "    print(readable_hash)"
   ]
  },
  {
   "cell_type": "code",
   "execution_count": 7,
   "metadata": {},
   "outputs": [],
   "source": [
    "class Block:\n",
    "    def __init__(self, index, timestamp, data, previoushash=''):\n",
    "        self.index=index\n",
    "        self.timestamp=timestamp\n",
    "        self.data=data\n",
    "        self.previoushash=previoushash\n",
    "        self.hash=self.calculateHash()\n",
    "        \n",
    "    def calculateHash(self):\n",
    "        string=str(self.index)+str(self.timestamp)+self.previoushash+str(self.data)\n",
    "        return hashlib.sha256(str.encode(string)).hexdigest() \n",
    "    \n",
    "    \n",
    "class Blockchain:\n",
    "    def __init__(self):\n",
    "        self.chain=[self.creatGenesisBlock()]\n",
    "        self.difficulty=5\n",
    "        \n",
    "        \n",
    "    def creatGenesisBlock(self):\n",
    "        return Block(0,\"29/09/2021\",\"Genesis Block\",\"0\")\n",
    "    \n",
    "    def getLastBlock(self):\n",
    "        return self.chain[-1]\n",
    "    \n",
    "    def addBlock(self,newBlock):\n",
    "        newBlock.previoushash=self.getLastBlock().hash\n",
    "        newBlock.hash=newBlock.calculateHash()\n",
    "        self.chain.append(newBlock)\n",
    "        \n",
    "    def validation(self):\n",
    "        for i in range(1,len(self.chain)):\n",
    "            currentBlock=self.chain[i]\n",
    "            previousBlock=self.chain[i-1]\n",
    "            \n",
    "            if (currentBlock.hash != currentBlock.calculateHash()):\n",
    "                return False\n",
    "            \n",
    "            if (currentBlock.previoushash != previousBlock.hash):\n",
    "                return False\n",
    "        \n",
    "        return True"
   ]
  },
  {
   "cell_type": "code",
   "execution_count": 8,
   "metadata": {},
   "outputs": [],
   "source": [
    "bc=Blockchain()"
   ]
  },
  {
   "cell_type": "code",
   "execution_count": 9,
   "metadata": {},
   "outputs": [
    {
     "data": {
      "text/plain": [
       "'0630351a6edcaf460214a5fbb312ae2c1a053af88ebc6d4229983b00aa420ab0'"
      ]
     },
     "execution_count": 9,
     "metadata": {},
     "output_type": "execute_result"
    }
   ],
   "source": [
    "bc.chain[0].hash"
   ]
  },
  {
   "cell_type": "code",
   "execution_count": 10,
   "metadata": {},
   "outputs": [],
   "source": [
    "bc.addBlock(Block(1,\"30/09/2021\",{\"from\":\"Emily\",\"to\":\"Sami\",\"amount\":45}))"
   ]
  },
  {
   "cell_type": "code",
   "execution_count": 11,
   "metadata": {},
   "outputs": [],
   "source": [
    "bc.addBlock(Block(2,\"01/10/2021\",{\"from\":\"Sami\",\"to\":\"Jack\",\"amount\":70}))"
   ]
  },
  {
   "cell_type": "code",
   "execution_count": 12,
   "metadata": {},
   "outputs": [
    {
     "data": {
      "text/plain": [
       "'{\\n                                                  \"chain\": [\\n                                                                                                    {\\n                                                                                                                                                      \"data\": \"Genesis Block\",\\n                                                                                                                                                      \"hash\": \"0630351a6edcaf460214a5fbb312ae2c1a053af88ebc6d4229983b00aa420ab0\",\\n                                                                                                                                                      \"index\": 0,\\n                                                                                                                                                      \"previoushash\": \"0\",\\n                                                                                                                                                      \"timestamp\": \"29/09/2021\"\\n                                                                                                    },\\n                                                                                                    {\\n                                                                                                                                                      \"data\": {\\n                                                                                                                                                                                                        \"amount\": 45,\\n                                                                                                                                                                                                        \"from\": \"Emily\",\\n                                                                                                                                                                                                        \"to\": \"Sami\"\\n                                                                                                                                                      },\\n                                                                                                                                                      \"hash\": \"34c68a7fb7c2bf54591a95c6644f3b2efd894830b294f9d9e5fb11d55c9fb8f5\",\\n                                                                                                                                                      \"index\": 1,\\n                                                                                                                                                      \"previoushash\": \"0630351a6edcaf460214a5fbb312ae2c1a053af88ebc6d4229983b00aa420ab0\",\\n                                                                                                                                                      \"timestamp\": \"30/09/2021\"\\n                                                                                                    },\\n                                                                                                    {\\n                                                                                                                                                      \"data\": {\\n                                                                                                                                                                                                        \"amount\": 70,\\n                                                                                                                                                                                                        \"from\": \"Sami\",\\n                                                                                                                                                                                                        \"to\": \"Jack\"\\n                                                                                                                                                      },\\n                                                                                                                                                      \"hash\": \"9d783ecc264629017873f9ac1ea8edf56b3311a48bc00dd0bad69e11ba7ed3a5\",\\n                                                                                                                                                      \"index\": 2,\\n                                                                                                                                                      \"previoushash\": \"34c68a7fb7c2bf54591a95c6644f3b2efd894830b294f9d9e5fb11d55c9fb8f5\",\\n                                                                                                                                                      \"timestamp\": \"01/10/2021\"\\n                                                                                                    }\\n                                                  ],\\n                                                  \"difficulty\": 5\\n}'"
      ]
     },
     "execution_count": 12,
     "metadata": {},
     "output_type": "execute_result"
    }
   ],
   "source": [
    "json.dumps(bc, default=lambda o: o.__dict__,sort_keys=True, indent=50)\n"
   ]
  },
  {
   "cell_type": "code",
   "execution_count": 13,
   "metadata": {},
   "outputs": [
    {
     "data": {
      "text/plain": [
       "True"
      ]
     },
     "execution_count": 13,
     "metadata": {},
     "output_type": "execute_result"
    }
   ],
   "source": [
    "bc.validation()"
   ]
  },
  {
   "cell_type": "code",
   "execution_count": 14,
   "metadata": {},
   "outputs": [
    {
     "data": {
      "text/plain": [
       "{'from': 'Emily', 'to': 'Sami', 'amount': 45}"
      ]
     },
     "execution_count": 14,
     "metadata": {},
     "output_type": "execute_result"
    }
   ],
   "source": [
    "bc.chain[1].data"
   ]
  },
  {
   "cell_type": "code",
   "execution_count": 15,
   "metadata": {},
   "outputs": [
    {
     "data": {
      "text/plain": [
       "'30/09/2021'"
      ]
     },
     "execution_count": 15,
     "metadata": {},
     "output_type": "execute_result"
    }
   ],
   "source": [
    "bc.chain[1].timestamp"
   ]
  },
  {
   "cell_type": "code",
   "execution_count": 16,
   "metadata": {},
   "outputs": [
    {
     "data": {
      "text/plain": [
       "'34c68a7fb7c2bf54591a95c6644f3b2efd894830b294f9d9e5fb11d55c9fb8f5'"
      ]
     },
     "execution_count": 16,
     "metadata": {},
     "output_type": "execute_result"
    }
   ],
   "source": [
    "bc.chain[1].hash"
   ]
  },
  {
   "cell_type": "code",
   "execution_count": 17,
   "metadata": {},
   "outputs": [
    {
     "data": {
      "text/plain": [
       "'0630351a6edcaf460214a5fbb312ae2c1a053af88ebc6d4229983b00aa420ab0'"
      ]
     },
     "execution_count": 17,
     "metadata": {},
     "output_type": "execute_result"
    }
   ],
   "source": [
    "bc.chain[1].previoushash"
   ]
  },
  {
   "cell_type": "code",
   "execution_count": 18,
   "metadata": {},
   "outputs": [
    {
     "data": {
      "text/plain": [
       "1"
      ]
     },
     "execution_count": 18,
     "metadata": {},
     "output_type": "execute_result"
    }
   ],
   "source": [
    "bc.chain[1].index"
   ]
  },
  {
   "cell_type": "markdown",
   "metadata": {},
   "source": [
    "If we change data of one block by just changing the \"amount\" in the dictionary the validation of the blockchain will be False."
   ]
  },
  {
   "cell_type": "code",
   "execution_count": 19,
   "metadata": {},
   "outputs": [],
   "source": [
    "bc.chain[1].data={\"from\":\"Emily\", \"to\":\"Sami\", \"amount\":180}"
   ]
  },
  {
   "cell_type": "code",
   "execution_count": 20,
   "metadata": {},
   "outputs": [
    {
     "data": {
      "text/plain": [
       "False"
      ]
     },
     "execution_count": 20,
     "metadata": {},
     "output_type": "execute_result"
    }
   ],
   "source": [
    "bc.validation()"
   ]
  },
  {
   "cell_type": "code",
   "execution_count": null,
   "metadata": {},
   "outputs": [],
   "source": []
  }
 ],
 "metadata": {
  "kernelspec": {
   "display_name": "Python 3",
   "language": "python",
   "name": "python3"
  },
  "language_info": {
   "codemirror_mode": {
    "name": "ipython",
    "version": 3
   },
   "file_extension": ".py",
   "mimetype": "text/x-python",
   "name": "python",
   "nbconvert_exporter": "python",
   "pygments_lexer": "ipython3",
   "version": "3.7.3"
  }
 },
 "nbformat": 4,
 "nbformat_minor": 2
}
